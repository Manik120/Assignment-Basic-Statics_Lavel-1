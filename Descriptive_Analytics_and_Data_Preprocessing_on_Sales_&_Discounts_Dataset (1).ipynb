{
  "nbformat": 4,
  "nbformat_minor": 0,
  "metadata": {
    "colab": {
      "provenance": []
    },
    "kernelspec": {
      "name": "python3",
      "display_name": "Python 3"
    },
    "language_info": {
      "name": "python"
    }
  },
  "cells": [
    {
      "cell_type": "code",
      "execution_count": 2,
      "metadata": {
        "colab": {
          "base_uri": "https://localhost:8080/"
        },
        "id": "8aaB4tecpCBk",
        "outputId": "feca90f2-a0d5-4957-b9c1-d07eb422bd73"
      },
      "outputs": [
        {
          "output_type": "stream",
          "name": "stdout",
          "text": [
            "Requirement already satisfied: pandas in /usr/local/lib/python3.10/dist-packages (2.0.3)\n",
            "Requirement already satisfied: python-dateutil>=2.8.2 in /usr/local/lib/python3.10/dist-packages (from pandas) (2.8.2)\n",
            "Requirement already satisfied: pytz>=2020.1 in /usr/local/lib/python3.10/dist-packages (from pandas) (2023.4)\n",
            "Requirement already satisfied: tzdata>=2022.1 in /usr/local/lib/python3.10/dist-packages (from pandas) (2024.1)\n",
            "Requirement already satisfied: numpy>=1.21.0 in /usr/local/lib/python3.10/dist-packages (from pandas) (1.25.2)\n",
            "Requirement already satisfied: six>=1.5 in /usr/local/lib/python3.10/dist-packages (from python-dateutil>=2.8.2->pandas) (1.16.0)\n"
          ]
        }
      ],
      "source": [
        "pip install pandas\n"
      ]
    },
    {
      "cell_type": "code",
      "source": [
        "pip install numpy"
      ],
      "metadata": {
        "colab": {
          "base_uri": "https://localhost:8080/"
        },
        "id": "AQ5jCKYfHnhd",
        "outputId": "86350c62-fdfe-4448-f8be-ebb22dd10a0f"
      },
      "execution_count": 4,
      "outputs": [
        {
          "output_type": "stream",
          "name": "stdout",
          "text": [
            "Requirement already satisfied: numpy in /usr/local/lib/python3.10/dist-packages (1.25.2)\n"
          ]
        }
      ]
    },
    {
      "cell_type": "code",
      "source": [
        "pip install matplotlib"
      ],
      "metadata": {
        "colab": {
          "base_uri": "https://localhost:8080/"
        },
        "id": "rpO5Lj3ZP4Yk",
        "outputId": "eda01846-984d-414d-87ea-626c2a9ac90b"
      },
      "execution_count": 5,
      "outputs": [
        {
          "output_type": "stream",
          "name": "stdout",
          "text": [
            "Requirement already satisfied: matplotlib in /usr/local/lib/python3.10/dist-packages (3.7.1)\n",
            "Requirement already satisfied: contourpy>=1.0.1 in /usr/local/lib/python3.10/dist-packages (from matplotlib) (1.2.1)\n",
            "Requirement already satisfied: cycler>=0.10 in /usr/local/lib/python3.10/dist-packages (from matplotlib) (0.12.1)\n",
            "Requirement already satisfied: fonttools>=4.22.0 in /usr/local/lib/python3.10/dist-packages (from matplotlib) (4.51.0)\n",
            "Requirement already satisfied: kiwisolver>=1.0.1 in /usr/local/lib/python3.10/dist-packages (from matplotlib) (1.4.5)\n",
            "Requirement already satisfied: numpy>=1.20 in /usr/local/lib/python3.10/dist-packages (from matplotlib) (1.25.2)\n",
            "Requirement already satisfied: packaging>=20.0 in /usr/local/lib/python3.10/dist-packages (from matplotlib) (24.0)\n",
            "Requirement already satisfied: pillow>=6.2.0 in /usr/local/lib/python3.10/dist-packages (from matplotlib) (9.4.0)\n",
            "Requirement already satisfied: pyparsing>=2.3.1 in /usr/local/lib/python3.10/dist-packages (from matplotlib) (3.1.2)\n",
            "Requirement already satisfied: python-dateutil>=2.7 in /usr/local/lib/python3.10/dist-packages (from matplotlib) (2.8.2)\n",
            "Requirement already satisfied: six>=1.5 in /usr/local/lib/python3.10/dist-packages (from python-dateutil>=2.7->matplotlib) (1.16.0)\n"
          ]
        }
      ]
    },
    {
      "cell_type": "code",
      "source": [
        "import seaborn as sns"
      ],
      "metadata": {
        "id": "INTMqk2kdTHP"
      },
      "execution_count": 6,
      "outputs": []
    },
    {
      "cell_type": "code",
      "source": [
        "import numpy as np"
      ],
      "metadata": {
        "id": "xd-Qd5HkH305"
      },
      "execution_count": 7,
      "outputs": []
    },
    {
      "cell_type": "code",
      "source": [
        "import pandas as pd"
      ],
      "metadata": {
        "id": "XZoq8hR5QYtu"
      },
      "execution_count": 8,
      "outputs": []
    },
    {
      "cell_type": "code",
      "source": [
        "import matplotlib.pyplot as plt"
      ],
      "metadata": {
        "id": "o0xJrQcuQgDb"
      },
      "execution_count": 9,
      "outputs": []
    },
    {
      "cell_type": "code",
      "source": [
        "from google.colab import files\n",
        "\n",
        "\n",
        "uploaded = files.upload()"
      ],
      "metadata": {
        "colab": {
          "base_uri": "https://localhost:8080/",
          "height": 73
        },
        "id": "ujHYKxa2q-J0",
        "outputId": "95a3a42c-efff-47c3-dc61-292b9eed3411"
      },
      "execution_count": 10,
      "outputs": [
        {
          "output_type": "display_data",
          "data": {
            "text/plain": [
              "<IPython.core.display.HTML object>"
            ],
            "text/html": [
              "\n",
              "     <input type=\"file\" id=\"files-a9072e78-17ef-4842-a783-6dacd426683a\" name=\"files[]\" multiple disabled\n",
              "        style=\"border:none\" />\n",
              "     <output id=\"result-a9072e78-17ef-4842-a783-6dacd426683a\">\n",
              "      Upload widget is only available when the cell has been executed in the\n",
              "      current browser session. Please rerun this cell to enable.\n",
              "      </output>\n",
              "      <script>// Copyright 2017 Google LLC\n",
              "//\n",
              "// Licensed under the Apache License, Version 2.0 (the \"License\");\n",
              "// you may not use this file except in compliance with the License.\n",
              "// You may obtain a copy of the License at\n",
              "//\n",
              "//      http://www.apache.org/licenses/LICENSE-2.0\n",
              "//\n",
              "// Unless required by applicable law or agreed to in writing, software\n",
              "// distributed under the License is distributed on an \"AS IS\" BASIS,\n",
              "// WITHOUT WARRANTIES OR CONDITIONS OF ANY KIND, either express or implied.\n",
              "// See the License for the specific language governing permissions and\n",
              "// limitations under the License.\n",
              "\n",
              "/**\n",
              " * @fileoverview Helpers for google.colab Python module.\n",
              " */\n",
              "(function(scope) {\n",
              "function span(text, styleAttributes = {}) {\n",
              "  const element = document.createElement('span');\n",
              "  element.textContent = text;\n",
              "  for (const key of Object.keys(styleAttributes)) {\n",
              "    element.style[key] = styleAttributes[key];\n",
              "  }\n",
              "  return element;\n",
              "}\n",
              "\n",
              "// Max number of bytes which will be uploaded at a time.\n",
              "const MAX_PAYLOAD_SIZE = 100 * 1024;\n",
              "\n",
              "function _uploadFiles(inputId, outputId) {\n",
              "  const steps = uploadFilesStep(inputId, outputId);\n",
              "  const outputElement = document.getElementById(outputId);\n",
              "  // Cache steps on the outputElement to make it available for the next call\n",
              "  // to uploadFilesContinue from Python.\n",
              "  outputElement.steps = steps;\n",
              "\n",
              "  return _uploadFilesContinue(outputId);\n",
              "}\n",
              "\n",
              "// This is roughly an async generator (not supported in the browser yet),\n",
              "// where there are multiple asynchronous steps and the Python side is going\n",
              "// to poll for completion of each step.\n",
              "// This uses a Promise to block the python side on completion of each step,\n",
              "// then passes the result of the previous step as the input to the next step.\n",
              "function _uploadFilesContinue(outputId) {\n",
              "  const outputElement = document.getElementById(outputId);\n",
              "  const steps = outputElement.steps;\n",
              "\n",
              "  const next = steps.next(outputElement.lastPromiseValue);\n",
              "  return Promise.resolve(next.value.promise).then((value) => {\n",
              "    // Cache the last promise value to make it available to the next\n",
              "    // step of the generator.\n",
              "    outputElement.lastPromiseValue = value;\n",
              "    return next.value.response;\n",
              "  });\n",
              "}\n",
              "\n",
              "/**\n",
              " * Generator function which is called between each async step of the upload\n",
              " * process.\n",
              " * @param {string} inputId Element ID of the input file picker element.\n",
              " * @param {string} outputId Element ID of the output display.\n",
              " * @return {!Iterable<!Object>} Iterable of next steps.\n",
              " */\n",
              "function* uploadFilesStep(inputId, outputId) {\n",
              "  const inputElement = document.getElementById(inputId);\n",
              "  inputElement.disabled = false;\n",
              "\n",
              "  const outputElement = document.getElementById(outputId);\n",
              "  outputElement.innerHTML = '';\n",
              "\n",
              "  const pickedPromise = new Promise((resolve) => {\n",
              "    inputElement.addEventListener('change', (e) => {\n",
              "      resolve(e.target.files);\n",
              "    });\n",
              "  });\n",
              "\n",
              "  const cancel = document.createElement('button');\n",
              "  inputElement.parentElement.appendChild(cancel);\n",
              "  cancel.textContent = 'Cancel upload';\n",
              "  const cancelPromise = new Promise((resolve) => {\n",
              "    cancel.onclick = () => {\n",
              "      resolve(null);\n",
              "    };\n",
              "  });\n",
              "\n",
              "  // Wait for the user to pick the files.\n",
              "  const files = yield {\n",
              "    promise: Promise.race([pickedPromise, cancelPromise]),\n",
              "    response: {\n",
              "      action: 'starting',\n",
              "    }\n",
              "  };\n",
              "\n",
              "  cancel.remove();\n",
              "\n",
              "  // Disable the input element since further picks are not allowed.\n",
              "  inputElement.disabled = true;\n",
              "\n",
              "  if (!files) {\n",
              "    return {\n",
              "      response: {\n",
              "        action: 'complete',\n",
              "      }\n",
              "    };\n",
              "  }\n",
              "\n",
              "  for (const file of files) {\n",
              "    const li = document.createElement('li');\n",
              "    li.append(span(file.name, {fontWeight: 'bold'}));\n",
              "    li.append(span(\n",
              "        `(${file.type || 'n/a'}) - ${file.size} bytes, ` +\n",
              "        `last modified: ${\n",
              "            file.lastModifiedDate ? file.lastModifiedDate.toLocaleDateString() :\n",
              "                                    'n/a'} - `));\n",
              "    const percent = span('0% done');\n",
              "    li.appendChild(percent);\n",
              "\n",
              "    outputElement.appendChild(li);\n",
              "\n",
              "    const fileDataPromise = new Promise((resolve) => {\n",
              "      const reader = new FileReader();\n",
              "      reader.onload = (e) => {\n",
              "        resolve(e.target.result);\n",
              "      };\n",
              "      reader.readAsArrayBuffer(file);\n",
              "    });\n",
              "    // Wait for the data to be ready.\n",
              "    let fileData = yield {\n",
              "      promise: fileDataPromise,\n",
              "      response: {\n",
              "        action: 'continue',\n",
              "      }\n",
              "    };\n",
              "\n",
              "    // Use a chunked sending to avoid message size limits. See b/62115660.\n",
              "    let position = 0;\n",
              "    do {\n",
              "      const length = Math.min(fileData.byteLength - position, MAX_PAYLOAD_SIZE);\n",
              "      const chunk = new Uint8Array(fileData, position, length);\n",
              "      position += length;\n",
              "\n",
              "      const base64 = btoa(String.fromCharCode.apply(null, chunk));\n",
              "      yield {\n",
              "        response: {\n",
              "          action: 'append',\n",
              "          file: file.name,\n",
              "          data: base64,\n",
              "        },\n",
              "      };\n",
              "\n",
              "      let percentDone = fileData.byteLength === 0 ?\n",
              "          100 :\n",
              "          Math.round((position / fileData.byteLength) * 100);\n",
              "      percent.textContent = `${percentDone}% done`;\n",
              "\n",
              "    } while (position < fileData.byteLength);\n",
              "  }\n",
              "\n",
              "  // All done.\n",
              "  yield {\n",
              "    response: {\n",
              "      action: 'complete',\n",
              "    }\n",
              "  };\n",
              "}\n",
              "\n",
              "scope.google = scope.google || {};\n",
              "scope.google.colab = scope.google.colab || {};\n",
              "scope.google.colab._files = {\n",
              "  _uploadFiles,\n",
              "  _uploadFilesContinue,\n",
              "};\n",
              "})(self);\n",
              "</script> "
            ]
          },
          "metadata": {}
        },
        {
          "output_type": "stream",
          "name": "stdout",
          "text": [
            "Saving sales_data_with_discounts.csv to sales_data_with_discounts.csv\n"
          ]
        }
      ]
    },
    {
      "cell_type": "code",
      "source": [
        " Sales = pd.read_csv(\"sales_data_with_discounts.csv\")\n",
        " print(Sales.head())"
      ],
      "metadata": {
        "colab": {
          "base_uri": "https://localhost:8080/"
        },
        "id": "eLftDQUYrt-m",
        "outputId": "614d1022-cb19-453c-fd80-8464a016df9d"
      },
      "execution_count": 61,
      "outputs": [
        {
          "output_type": "stream",
          "name": "stdout",
          "text": [
            "         Date       Day  SKU City  Volume       BU  Brand       Model  \\\n",
            "0  01-04-2021  Thursday  M01    C      15  Mobiles  RealU       RU-10   \n",
            "1  01-04-2021  Thursday  M02    C      10  Mobiles  RealU   RU-9 Plus   \n",
            "2  01-04-2021  Thursday  M03    C       7  Mobiles   YouM       YM-99   \n",
            "3  01-04-2021  Thursday  M04    C       6  Mobiles   YouM  YM-99 Plus   \n",
            "4  01-04-2021  Thursday  M05    C       3  Mobiles   YouM      YM-98    \n",
            "\n",
            "   Avg Price  Total Sales Value  Discount Rate (%)  Discount Amount  \\\n",
            "0      12100             181500          11.654820     21153.498820   \n",
            "1      10100             101000          11.560498     11676.102961   \n",
            "2      16100             112700           9.456886     10657.910157   \n",
            "3      20100             120600           6.935385      8364.074702   \n",
            "4       8100              24300          17.995663      4372.946230   \n",
            "\n",
            "   Net Sales Value  \n",
            "0    160346.501180  \n",
            "1     89323.897039  \n",
            "2    102042.089843  \n",
            "3    112235.925298  \n",
            "4     19927.053770  \n"
          ]
        }
      ]
    },
    {
      "cell_type": "markdown",
      "source": [
        "# Descriptive Analytics for Numerical Columns"
      ],
      "metadata": {
        "id": "M843Ku1ZDQ1r"
      }
    },
    {
      "cell_type": "code",
      "source": [
        "Numeric_Sales=Sales.select_dtypes(include=np.number)\n",
        "print(Numeric_Sales.head())"
      ],
      "metadata": {
        "colab": {
          "base_uri": "https://localhost:8080/"
        },
        "id": "_0yf6oUKF8wz",
        "outputId": "16e4e96f-751d-4e99-8a9a-26b2c8c1916f"
      },
      "execution_count": 12,
      "outputs": [
        {
          "output_type": "stream",
          "name": "stdout",
          "text": [
            "   Volume  Avg Price  Total Sales Value  Discount Rate (%)  Discount Amount  \\\n",
            "0      15      12100             181500          11.654820     21153.498820   \n",
            "1      10      10100             101000          11.560498     11676.102961   \n",
            "2       7      16100             112700           9.456886     10657.910157   \n",
            "3       6      20100             120600           6.935385      8364.074702   \n",
            "4       3       8100              24300          17.995663      4372.946230   \n",
            "\n",
            "   Net Sales Value  \n",
            "0    160346.501180  \n",
            "1     89323.897039  \n",
            "2    102042.089843  \n",
            "3    112235.925298  \n",
            "4     19927.053770  \n"
          ]
        }
      ]
    },
    {
      "cell_type": "code",
      "source": [
        "Numeric_Sales.describe()"
      ],
      "metadata": {
        "colab": {
          "base_uri": "https://localhost:8080/",
          "height": 300
        },
        "id": "v9UXlSACDgJ2",
        "outputId": "11a91141-3ff4-4909-ba0c-2116220c5eb1"
      },
      "execution_count": 13,
      "outputs": [
        {
          "output_type": "execute_result",
          "data": {
            "text/plain": [
              "           Volume     Avg Price  Total Sales Value  Discount Rate (%)  \\\n",
              "count  450.000000    450.000000         450.000000         450.000000   \n",
              "mean     5.066667  10453.433333       33812.835556          15.155242   \n",
              "std      4.231602  18079.904840       50535.074173           4.220602   \n",
              "min      1.000000    290.000000         400.000000           5.007822   \n",
              "25%      3.000000    465.000000        2700.000000          13.965063   \n",
              "50%      4.000000   1450.000000        5700.000000          16.577766   \n",
              "75%      6.000000  10100.000000       53200.000000          18.114718   \n",
              "max     31.000000  60100.000000      196400.000000          19.992407   \n",
              "\n",
              "       Discount Amount  Net Sales Value  \n",
              "count       450.000000       450.000000  \n",
              "mean       3346.499424     30466.336131  \n",
              "std        4509.902963     46358.656624  \n",
              "min          69.177942       326.974801  \n",
              "25%         460.459304      2202.208645  \n",
              "50%         988.933733      4677.788059  \n",
              "75%        5316.495427     47847.912852  \n",
              "max       25738.022194    179507.479049  "
            ],
            "text/html": [
              "\n",
              "  <div id=\"df-36250e03-91c5-41b1-a0d6-8e96a541f38a\" class=\"colab-df-container\">\n",
              "    <div>\n",
              "<style scoped>\n",
              "    .dataframe tbody tr th:only-of-type {\n",
              "        vertical-align: middle;\n",
              "    }\n",
              "\n",
              "    .dataframe tbody tr th {\n",
              "        vertical-align: top;\n",
              "    }\n",
              "\n",
              "    .dataframe thead th {\n",
              "        text-align: right;\n",
              "    }\n",
              "</style>\n",
              "<table border=\"1\" class=\"dataframe\">\n",
              "  <thead>\n",
              "    <tr style=\"text-align: right;\">\n",
              "      <th></th>\n",
              "      <th>Volume</th>\n",
              "      <th>Avg Price</th>\n",
              "      <th>Total Sales Value</th>\n",
              "      <th>Discount Rate (%)</th>\n",
              "      <th>Discount Amount</th>\n",
              "      <th>Net Sales Value</th>\n",
              "    </tr>\n",
              "  </thead>\n",
              "  <tbody>\n",
              "    <tr>\n",
              "      <th>count</th>\n",
              "      <td>450.000000</td>\n",
              "      <td>450.000000</td>\n",
              "      <td>450.000000</td>\n",
              "      <td>450.000000</td>\n",
              "      <td>450.000000</td>\n",
              "      <td>450.000000</td>\n",
              "    </tr>\n",
              "    <tr>\n",
              "      <th>mean</th>\n",
              "      <td>5.066667</td>\n",
              "      <td>10453.433333</td>\n",
              "      <td>33812.835556</td>\n",
              "      <td>15.155242</td>\n",
              "      <td>3346.499424</td>\n",
              "      <td>30466.336131</td>\n",
              "    </tr>\n",
              "    <tr>\n",
              "      <th>std</th>\n",
              "      <td>4.231602</td>\n",
              "      <td>18079.904840</td>\n",
              "      <td>50535.074173</td>\n",
              "      <td>4.220602</td>\n",
              "      <td>4509.902963</td>\n",
              "      <td>46358.656624</td>\n",
              "    </tr>\n",
              "    <tr>\n",
              "      <th>min</th>\n",
              "      <td>1.000000</td>\n",
              "      <td>290.000000</td>\n",
              "      <td>400.000000</td>\n",
              "      <td>5.007822</td>\n",
              "      <td>69.177942</td>\n",
              "      <td>326.974801</td>\n",
              "    </tr>\n",
              "    <tr>\n",
              "      <th>25%</th>\n",
              "      <td>3.000000</td>\n",
              "      <td>465.000000</td>\n",
              "      <td>2700.000000</td>\n",
              "      <td>13.965063</td>\n",
              "      <td>460.459304</td>\n",
              "      <td>2202.208645</td>\n",
              "    </tr>\n",
              "    <tr>\n",
              "      <th>50%</th>\n",
              "      <td>4.000000</td>\n",
              "      <td>1450.000000</td>\n",
              "      <td>5700.000000</td>\n",
              "      <td>16.577766</td>\n",
              "      <td>988.933733</td>\n",
              "      <td>4677.788059</td>\n",
              "    </tr>\n",
              "    <tr>\n",
              "      <th>75%</th>\n",
              "      <td>6.000000</td>\n",
              "      <td>10100.000000</td>\n",
              "      <td>53200.000000</td>\n",
              "      <td>18.114718</td>\n",
              "      <td>5316.495427</td>\n",
              "      <td>47847.912852</td>\n",
              "    </tr>\n",
              "    <tr>\n",
              "      <th>max</th>\n",
              "      <td>31.000000</td>\n",
              "      <td>60100.000000</td>\n",
              "      <td>196400.000000</td>\n",
              "      <td>19.992407</td>\n",
              "      <td>25738.022194</td>\n",
              "      <td>179507.479049</td>\n",
              "    </tr>\n",
              "  </tbody>\n",
              "</table>\n",
              "</div>\n",
              "    <div class=\"colab-df-buttons\">\n",
              "\n",
              "  <div class=\"colab-df-container\">\n",
              "    <button class=\"colab-df-convert\" onclick=\"convertToInteractive('df-36250e03-91c5-41b1-a0d6-8e96a541f38a')\"\n",
              "            title=\"Convert this dataframe to an interactive table.\"\n",
              "            style=\"display:none;\">\n",
              "\n",
              "  <svg xmlns=\"http://www.w3.org/2000/svg\" height=\"24px\" viewBox=\"0 -960 960 960\">\n",
              "    <path d=\"M120-120v-720h720v720H120Zm60-500h600v-160H180v160Zm220 220h160v-160H400v160Zm0 220h160v-160H400v160ZM180-400h160v-160H180v160Zm440 0h160v-160H620v160ZM180-180h160v-160H180v160Zm440 0h160v-160H620v160Z\"/>\n",
              "  </svg>\n",
              "    </button>\n",
              "\n",
              "  <style>\n",
              "    .colab-df-container {\n",
              "      display:flex;\n",
              "      gap: 12px;\n",
              "    }\n",
              "\n",
              "    .colab-df-convert {\n",
              "      background-color: #E8F0FE;\n",
              "      border: none;\n",
              "      border-radius: 50%;\n",
              "      cursor: pointer;\n",
              "      display: none;\n",
              "      fill: #1967D2;\n",
              "      height: 32px;\n",
              "      padding: 0 0 0 0;\n",
              "      width: 32px;\n",
              "    }\n",
              "\n",
              "    .colab-df-convert:hover {\n",
              "      background-color: #E2EBFA;\n",
              "      box-shadow: 0px 1px 2px rgba(60, 64, 67, 0.3), 0px 1px 3px 1px rgba(60, 64, 67, 0.15);\n",
              "      fill: #174EA6;\n",
              "    }\n",
              "\n",
              "    .colab-df-buttons div {\n",
              "      margin-bottom: 4px;\n",
              "    }\n",
              "\n",
              "    [theme=dark] .colab-df-convert {\n",
              "      background-color: #3B4455;\n",
              "      fill: #D2E3FC;\n",
              "    }\n",
              "\n",
              "    [theme=dark] .colab-df-convert:hover {\n",
              "      background-color: #434B5C;\n",
              "      box-shadow: 0px 1px 3px 1px rgba(0, 0, 0, 0.15);\n",
              "      filter: drop-shadow(0px 1px 2px rgba(0, 0, 0, 0.3));\n",
              "      fill: #FFFFFF;\n",
              "    }\n",
              "  </style>\n",
              "\n",
              "    <script>\n",
              "      const buttonEl =\n",
              "        document.querySelector('#df-36250e03-91c5-41b1-a0d6-8e96a541f38a button.colab-df-convert');\n",
              "      buttonEl.style.display =\n",
              "        google.colab.kernel.accessAllowed ? 'block' : 'none';\n",
              "\n",
              "      async function convertToInteractive(key) {\n",
              "        const element = document.querySelector('#df-36250e03-91c5-41b1-a0d6-8e96a541f38a');\n",
              "        const dataTable =\n",
              "          await google.colab.kernel.invokeFunction('convertToInteractive',\n",
              "                                                    [key], {});\n",
              "        if (!dataTable) return;\n",
              "\n",
              "        const docLinkHtml = 'Like what you see? Visit the ' +\n",
              "          '<a target=\"_blank\" href=https://colab.research.google.com/notebooks/data_table.ipynb>data table notebook</a>'\n",
              "          + ' to learn more about interactive tables.';\n",
              "        element.innerHTML = '';\n",
              "        dataTable['output_type'] = 'display_data';\n",
              "        await google.colab.output.renderOutput(dataTable, element);\n",
              "        const docLink = document.createElement('div');\n",
              "        docLink.innerHTML = docLinkHtml;\n",
              "        element.appendChild(docLink);\n",
              "      }\n",
              "    </script>\n",
              "  </div>\n",
              "\n",
              "\n",
              "<div id=\"df-4805f21a-fb72-4661-86b7-5c2b506bbb54\">\n",
              "  <button class=\"colab-df-quickchart\" onclick=\"quickchart('df-4805f21a-fb72-4661-86b7-5c2b506bbb54')\"\n",
              "            title=\"Suggest charts\"\n",
              "            style=\"display:none;\">\n",
              "\n",
              "<svg xmlns=\"http://www.w3.org/2000/svg\" height=\"24px\"viewBox=\"0 0 24 24\"\n",
              "     width=\"24px\">\n",
              "    <g>\n",
              "        <path d=\"M19 3H5c-1.1 0-2 .9-2 2v14c0 1.1.9 2 2 2h14c1.1 0 2-.9 2-2V5c0-1.1-.9-2-2-2zM9 17H7v-7h2v7zm4 0h-2V7h2v10zm4 0h-2v-4h2v4z\"/>\n",
              "    </g>\n",
              "</svg>\n",
              "  </button>\n",
              "\n",
              "<style>\n",
              "  .colab-df-quickchart {\n",
              "      --bg-color: #E8F0FE;\n",
              "      --fill-color: #1967D2;\n",
              "      --hover-bg-color: #E2EBFA;\n",
              "      --hover-fill-color: #174EA6;\n",
              "      --disabled-fill-color: #AAA;\n",
              "      --disabled-bg-color: #DDD;\n",
              "  }\n",
              "\n",
              "  [theme=dark] .colab-df-quickchart {\n",
              "      --bg-color: #3B4455;\n",
              "      --fill-color: #D2E3FC;\n",
              "      --hover-bg-color: #434B5C;\n",
              "      --hover-fill-color: #FFFFFF;\n",
              "      --disabled-bg-color: #3B4455;\n",
              "      --disabled-fill-color: #666;\n",
              "  }\n",
              "\n",
              "  .colab-df-quickchart {\n",
              "    background-color: var(--bg-color);\n",
              "    border: none;\n",
              "    border-radius: 50%;\n",
              "    cursor: pointer;\n",
              "    display: none;\n",
              "    fill: var(--fill-color);\n",
              "    height: 32px;\n",
              "    padding: 0;\n",
              "    width: 32px;\n",
              "  }\n",
              "\n",
              "  .colab-df-quickchart:hover {\n",
              "    background-color: var(--hover-bg-color);\n",
              "    box-shadow: 0 1px 2px rgba(60, 64, 67, 0.3), 0 1px 3px 1px rgba(60, 64, 67, 0.15);\n",
              "    fill: var(--button-hover-fill-color);\n",
              "  }\n",
              "\n",
              "  .colab-df-quickchart-complete:disabled,\n",
              "  .colab-df-quickchart-complete:disabled:hover {\n",
              "    background-color: var(--disabled-bg-color);\n",
              "    fill: var(--disabled-fill-color);\n",
              "    box-shadow: none;\n",
              "  }\n",
              "\n",
              "  .colab-df-spinner {\n",
              "    border: 2px solid var(--fill-color);\n",
              "    border-color: transparent;\n",
              "    border-bottom-color: var(--fill-color);\n",
              "    animation:\n",
              "      spin 1s steps(1) infinite;\n",
              "  }\n",
              "\n",
              "  @keyframes spin {\n",
              "    0% {\n",
              "      border-color: transparent;\n",
              "      border-bottom-color: var(--fill-color);\n",
              "      border-left-color: var(--fill-color);\n",
              "    }\n",
              "    20% {\n",
              "      border-color: transparent;\n",
              "      border-left-color: var(--fill-color);\n",
              "      border-top-color: var(--fill-color);\n",
              "    }\n",
              "    30% {\n",
              "      border-color: transparent;\n",
              "      border-left-color: var(--fill-color);\n",
              "      border-top-color: var(--fill-color);\n",
              "      border-right-color: var(--fill-color);\n",
              "    }\n",
              "    40% {\n",
              "      border-color: transparent;\n",
              "      border-right-color: var(--fill-color);\n",
              "      border-top-color: var(--fill-color);\n",
              "    }\n",
              "    60% {\n",
              "      border-color: transparent;\n",
              "      border-right-color: var(--fill-color);\n",
              "    }\n",
              "    80% {\n",
              "      border-color: transparent;\n",
              "      border-right-color: var(--fill-color);\n",
              "      border-bottom-color: var(--fill-color);\n",
              "    }\n",
              "    90% {\n",
              "      border-color: transparent;\n",
              "      border-bottom-color: var(--fill-color);\n",
              "    }\n",
              "  }\n",
              "</style>\n",
              "\n",
              "  <script>\n",
              "    async function quickchart(key) {\n",
              "      const quickchartButtonEl =\n",
              "        document.querySelector('#' + key + ' button');\n",
              "      quickchartButtonEl.disabled = true;  // To prevent multiple clicks.\n",
              "      quickchartButtonEl.classList.add('colab-df-spinner');\n",
              "      try {\n",
              "        const charts = await google.colab.kernel.invokeFunction(\n",
              "            'suggestCharts', [key], {});\n",
              "      } catch (error) {\n",
              "        console.error('Error during call to suggestCharts:', error);\n",
              "      }\n",
              "      quickchartButtonEl.classList.remove('colab-df-spinner');\n",
              "      quickchartButtonEl.classList.add('colab-df-quickchart-complete');\n",
              "    }\n",
              "    (() => {\n",
              "      let quickchartButtonEl =\n",
              "        document.querySelector('#df-4805f21a-fb72-4661-86b7-5c2b506bbb54 button');\n",
              "      quickchartButtonEl.style.display =\n",
              "        google.colab.kernel.accessAllowed ? 'block' : 'none';\n",
              "    })();\n",
              "  </script>\n",
              "</div>\n",
              "\n",
              "    </div>\n",
              "  </div>\n"
            ],
            "application/vnd.google.colaboratory.intrinsic+json": {
              "type": "dataframe",
              "summary": "{\n  \"name\": \"Numeric_Sales\",\n  \"rows\": 8,\n  \"fields\": [\n    {\n      \"column\": \"Volume\",\n      \"properties\": {\n        \"dtype\": \"number\",\n        \"std\": 156.65110667068927,\n        \"min\": 1.0,\n        \"max\": 450.0,\n        \"num_unique_values\": 8,\n        \"samples\": [\n          5.066666666666666,\n          4.0,\n          450.0\n        ],\n        \"semantic_type\": \"\",\n        \"description\": \"\"\n      }\n    },\n    {\n      \"column\": \"Avg Price\",\n      \"properties\": {\n        \"dtype\": \"number\",\n        \"std\": 20240.811540701754,\n        \"min\": 290.0,\n        \"max\": 60100.0,\n        \"num_unique_values\": 8,\n        \"samples\": [\n          10453.433333333332,\n          1450.0,\n          450.0\n        ],\n        \"semantic_type\": \"\",\n        \"description\": \"\"\n      }\n    },\n    {\n      \"column\": \"Total Sales Value\",\n      \"properties\": {\n        \"dtype\": \"number\",\n        \"std\": 65919.15331321131,\n        \"min\": 400.0,\n        \"max\": 196400.0,\n        \"num_unique_values\": 8,\n        \"samples\": [\n          33812.83555555555,\n          5700.0,\n          450.0\n        ],\n        \"semantic_type\": \"\",\n        \"description\": \"\"\n      }\n    },\n    {\n      \"column\": \"Discount Rate (%)\",\n      \"properties\": {\n        \"dtype\": \"number\",\n        \"std\": 154.50823774782953,\n        \"min\": 4.22060215332551,\n        \"max\": 450.0,\n        \"num_unique_values\": 8,\n        \"samples\": [\n          15.155241895330914,\n          16.57776564929597,\n          450.0\n        ],\n        \"semantic_type\": \"\",\n        \"description\": \"\"\n      }\n    },\n    {\n      \"column\": \"Discount Amount\",\n      \"properties\": {\n        \"dtype\": \"number\",\n        \"std\": 8575.337507445172,\n        \"min\": 69.17794228822787,\n        \"max\": 25738.02219375868,\n        \"num_unique_values\": 8,\n        \"samples\": [\n          3346.499424342415,\n          988.9337332382784,\n          450.0\n        ],\n        \"semantic_type\": \"\",\n        \"description\": \"\"\n      }\n    },\n    {\n      \"column\": \"Net Sales Value\",\n      \"properties\": {\n        \"dtype\": \"number\",\n        \"std\": 60310.39264790412,\n        \"min\": 326.97480055470817,\n        \"max\": 179507.47904902254,\n        \"num_unique_values\": 8,\n        \"samples\": [\n          30466.336131270138,\n          4677.788059301853,\n          450.0\n        ],\n        \"semantic_type\": \"\",\n        \"description\": \"\"\n      }\n    }\n  ]\n}"
            }
          },
          "metadata": {},
          "execution_count": 13
        }
      ]
    },
    {
      "cell_type": "code",
      "source": [
        "Numeric_Sales.mode()"
      ],
      "metadata": {
        "colab": {
          "base_uri": "https://localhost:8080/",
          "height": 423
        },
        "id": "6o2jKdC6LEiH",
        "outputId": "376cb73f-8e60-417e-c9b7-61c0946e672f"
      },
      "execution_count": 14,
      "outputs": [
        {
          "output_type": "execute_result",
          "data": {
            "text/plain": [
              "     Volume  Avg Price  Total Sales Value  Discount Rate (%)  Discount Amount  \\\n",
              "0       3.0      400.0            24300.0           5.007822        69.177942   \n",
              "1       NaN      450.0                NaN           5.055218        73.025199   \n",
              "2       NaN      500.0                NaN           5.059801        93.649161   \n",
              "3       NaN     1300.0                NaN           5.072124        94.682735   \n",
              "4       NaN     8100.0                NaN           5.084108       102.705757   \n",
              "..      ...        ...                ...                ...              ...   \n",
              "445     NaN        NaN                NaN          19.940610     17900.983733   \n",
              "446     NaN        NaN                NaN          19.965340     21153.498820   \n",
              "447     NaN        NaN                NaN          19.976879     21496.675367   \n",
              "448     NaN        NaN                NaN          19.982257     25328.224204   \n",
              "449     NaN        NaN                NaN          19.992407     25738.022194   \n",
              "\n",
              "     Net Sales Value  \n",
              "0         326.974801  \n",
              "1         330.822058  \n",
              "2         466.350839  \n",
              "3         485.317265  \n",
              "4         496.607104  \n",
              "..               ...  \n",
              "445    162603.186379  \n",
              "446    163915.971000  \n",
              "447    163967.080070  \n",
              "448    166263.161348  \n",
              "449    179507.479049  \n",
              "\n",
              "[450 rows x 6 columns]"
            ],
            "text/html": [
              "\n",
              "  <div id=\"df-9ce6aab9-1a1a-4e86-9442-37f7372e04d3\" class=\"colab-df-container\">\n",
              "    <div>\n",
              "<style scoped>\n",
              "    .dataframe tbody tr th:only-of-type {\n",
              "        vertical-align: middle;\n",
              "    }\n",
              "\n",
              "    .dataframe tbody tr th {\n",
              "        vertical-align: top;\n",
              "    }\n",
              "\n",
              "    .dataframe thead th {\n",
              "        text-align: right;\n",
              "    }\n",
              "</style>\n",
              "<table border=\"1\" class=\"dataframe\">\n",
              "  <thead>\n",
              "    <tr style=\"text-align: right;\">\n",
              "      <th></th>\n",
              "      <th>Volume</th>\n",
              "      <th>Avg Price</th>\n",
              "      <th>Total Sales Value</th>\n",
              "      <th>Discount Rate (%)</th>\n",
              "      <th>Discount Amount</th>\n",
              "      <th>Net Sales Value</th>\n",
              "    </tr>\n",
              "  </thead>\n",
              "  <tbody>\n",
              "    <tr>\n",
              "      <th>0</th>\n",
              "      <td>3.0</td>\n",
              "      <td>400.0</td>\n",
              "      <td>24300.0</td>\n",
              "      <td>5.007822</td>\n",
              "      <td>69.177942</td>\n",
              "      <td>326.974801</td>\n",
              "    </tr>\n",
              "    <tr>\n",
              "      <th>1</th>\n",
              "      <td>NaN</td>\n",
              "      <td>450.0</td>\n",
              "      <td>NaN</td>\n",
              "      <td>5.055218</td>\n",
              "      <td>73.025199</td>\n",
              "      <td>330.822058</td>\n",
              "    </tr>\n",
              "    <tr>\n",
              "      <th>2</th>\n",
              "      <td>NaN</td>\n",
              "      <td>500.0</td>\n",
              "      <td>NaN</td>\n",
              "      <td>5.059801</td>\n",
              "      <td>93.649161</td>\n",
              "      <td>466.350839</td>\n",
              "    </tr>\n",
              "    <tr>\n",
              "      <th>3</th>\n",
              "      <td>NaN</td>\n",
              "      <td>1300.0</td>\n",
              "      <td>NaN</td>\n",
              "      <td>5.072124</td>\n",
              "      <td>94.682735</td>\n",
              "      <td>485.317265</td>\n",
              "    </tr>\n",
              "    <tr>\n",
              "      <th>4</th>\n",
              "      <td>NaN</td>\n",
              "      <td>8100.0</td>\n",
              "      <td>NaN</td>\n",
              "      <td>5.084108</td>\n",
              "      <td>102.705757</td>\n",
              "      <td>496.607104</td>\n",
              "    </tr>\n",
              "    <tr>\n",
              "      <th>...</th>\n",
              "      <td>...</td>\n",
              "      <td>...</td>\n",
              "      <td>...</td>\n",
              "      <td>...</td>\n",
              "      <td>...</td>\n",
              "      <td>...</td>\n",
              "    </tr>\n",
              "    <tr>\n",
              "      <th>445</th>\n",
              "      <td>NaN</td>\n",
              "      <td>NaN</td>\n",
              "      <td>NaN</td>\n",
              "      <td>19.940610</td>\n",
              "      <td>17900.983733</td>\n",
              "      <td>162603.186379</td>\n",
              "    </tr>\n",
              "    <tr>\n",
              "      <th>446</th>\n",
              "      <td>NaN</td>\n",
              "      <td>NaN</td>\n",
              "      <td>NaN</td>\n",
              "      <td>19.965340</td>\n",
              "      <td>21153.498820</td>\n",
              "      <td>163915.971000</td>\n",
              "    </tr>\n",
              "    <tr>\n",
              "      <th>447</th>\n",
              "      <td>NaN</td>\n",
              "      <td>NaN</td>\n",
              "      <td>NaN</td>\n",
              "      <td>19.976879</td>\n",
              "      <td>21496.675367</td>\n",
              "      <td>163967.080070</td>\n",
              "    </tr>\n",
              "    <tr>\n",
              "      <th>448</th>\n",
              "      <td>NaN</td>\n",
              "      <td>NaN</td>\n",
              "      <td>NaN</td>\n",
              "      <td>19.982257</td>\n",
              "      <td>25328.224204</td>\n",
              "      <td>166263.161348</td>\n",
              "    </tr>\n",
              "    <tr>\n",
              "      <th>449</th>\n",
              "      <td>NaN</td>\n",
              "      <td>NaN</td>\n",
              "      <td>NaN</td>\n",
              "      <td>19.992407</td>\n",
              "      <td>25738.022194</td>\n",
              "      <td>179507.479049</td>\n",
              "    </tr>\n",
              "  </tbody>\n",
              "</table>\n",
              "<p>450 rows × 6 columns</p>\n",
              "</div>\n",
              "    <div class=\"colab-df-buttons\">\n",
              "\n",
              "  <div class=\"colab-df-container\">\n",
              "    <button class=\"colab-df-convert\" onclick=\"convertToInteractive('df-9ce6aab9-1a1a-4e86-9442-37f7372e04d3')\"\n",
              "            title=\"Convert this dataframe to an interactive table.\"\n",
              "            style=\"display:none;\">\n",
              "\n",
              "  <svg xmlns=\"http://www.w3.org/2000/svg\" height=\"24px\" viewBox=\"0 -960 960 960\">\n",
              "    <path d=\"M120-120v-720h720v720H120Zm60-500h600v-160H180v160Zm220 220h160v-160H400v160Zm0 220h160v-160H400v160ZM180-400h160v-160H180v160Zm440 0h160v-160H620v160ZM180-180h160v-160H180v160Zm440 0h160v-160H620v160Z\"/>\n",
              "  </svg>\n",
              "    </button>\n",
              "\n",
              "  <style>\n",
              "    .colab-df-container {\n",
              "      display:flex;\n",
              "      gap: 12px;\n",
              "    }\n",
              "\n",
              "    .colab-df-convert {\n",
              "      background-color: #E8F0FE;\n",
              "      border: none;\n",
              "      border-radius: 50%;\n",
              "      cursor: pointer;\n",
              "      display: none;\n",
              "      fill: #1967D2;\n",
              "      height: 32px;\n",
              "      padding: 0 0 0 0;\n",
              "      width: 32px;\n",
              "    }\n",
              "\n",
              "    .colab-df-convert:hover {\n",
              "      background-color: #E2EBFA;\n",
              "      box-shadow: 0px 1px 2px rgba(60, 64, 67, 0.3), 0px 1px 3px 1px rgba(60, 64, 67, 0.15);\n",
              "      fill: #174EA6;\n",
              "    }\n",
              "\n",
              "    .colab-df-buttons div {\n",
              "      margin-bottom: 4px;\n",
              "    }\n",
              "\n",
              "    [theme=dark] .colab-df-convert {\n",
              "      background-color: #3B4455;\n",
              "      fill: #D2E3FC;\n",
              "    }\n",
              "\n",
              "    [theme=dark] .colab-df-convert:hover {\n",
              "      background-color: #434B5C;\n",
              "      box-shadow: 0px 1px 3px 1px rgba(0, 0, 0, 0.15);\n",
              "      filter: drop-shadow(0px 1px 2px rgba(0, 0, 0, 0.3));\n",
              "      fill: #FFFFFF;\n",
              "    }\n",
              "  </style>\n",
              "\n",
              "    <script>\n",
              "      const buttonEl =\n",
              "        document.querySelector('#df-9ce6aab9-1a1a-4e86-9442-37f7372e04d3 button.colab-df-convert');\n",
              "      buttonEl.style.display =\n",
              "        google.colab.kernel.accessAllowed ? 'block' : 'none';\n",
              "\n",
              "      async function convertToInteractive(key) {\n",
              "        const element = document.querySelector('#df-9ce6aab9-1a1a-4e86-9442-37f7372e04d3');\n",
              "        const dataTable =\n",
              "          await google.colab.kernel.invokeFunction('convertToInteractive',\n",
              "                                                    [key], {});\n",
              "        if (!dataTable) return;\n",
              "\n",
              "        const docLinkHtml = 'Like what you see? Visit the ' +\n",
              "          '<a target=\"_blank\" href=https://colab.research.google.com/notebooks/data_table.ipynb>data table notebook</a>'\n",
              "          + ' to learn more about interactive tables.';\n",
              "        element.innerHTML = '';\n",
              "        dataTable['output_type'] = 'display_data';\n",
              "        await google.colab.output.renderOutput(dataTable, element);\n",
              "        const docLink = document.createElement('div');\n",
              "        docLink.innerHTML = docLinkHtml;\n",
              "        element.appendChild(docLink);\n",
              "      }\n",
              "    </script>\n",
              "  </div>\n",
              "\n",
              "\n",
              "<div id=\"df-9a4aa1f2-e55b-4186-86af-4edd05bd6718\">\n",
              "  <button class=\"colab-df-quickchart\" onclick=\"quickchart('df-9a4aa1f2-e55b-4186-86af-4edd05bd6718')\"\n",
              "            title=\"Suggest charts\"\n",
              "            style=\"display:none;\">\n",
              "\n",
              "<svg xmlns=\"http://www.w3.org/2000/svg\" height=\"24px\"viewBox=\"0 0 24 24\"\n",
              "     width=\"24px\">\n",
              "    <g>\n",
              "        <path d=\"M19 3H5c-1.1 0-2 .9-2 2v14c0 1.1.9 2 2 2h14c1.1 0 2-.9 2-2V5c0-1.1-.9-2-2-2zM9 17H7v-7h2v7zm4 0h-2V7h2v10zm4 0h-2v-4h2v4z\"/>\n",
              "    </g>\n",
              "</svg>\n",
              "  </button>\n",
              "\n",
              "<style>\n",
              "  .colab-df-quickchart {\n",
              "      --bg-color: #E8F0FE;\n",
              "      --fill-color: #1967D2;\n",
              "      --hover-bg-color: #E2EBFA;\n",
              "      --hover-fill-color: #174EA6;\n",
              "      --disabled-fill-color: #AAA;\n",
              "      --disabled-bg-color: #DDD;\n",
              "  }\n",
              "\n",
              "  [theme=dark] .colab-df-quickchart {\n",
              "      --bg-color: #3B4455;\n",
              "      --fill-color: #D2E3FC;\n",
              "      --hover-bg-color: #434B5C;\n",
              "      --hover-fill-color: #FFFFFF;\n",
              "      --disabled-bg-color: #3B4455;\n",
              "      --disabled-fill-color: #666;\n",
              "  }\n",
              "\n",
              "  .colab-df-quickchart {\n",
              "    background-color: var(--bg-color);\n",
              "    border: none;\n",
              "    border-radius: 50%;\n",
              "    cursor: pointer;\n",
              "    display: none;\n",
              "    fill: var(--fill-color);\n",
              "    height: 32px;\n",
              "    padding: 0;\n",
              "    width: 32px;\n",
              "  }\n",
              "\n",
              "  .colab-df-quickchart:hover {\n",
              "    background-color: var(--hover-bg-color);\n",
              "    box-shadow: 0 1px 2px rgba(60, 64, 67, 0.3), 0 1px 3px 1px rgba(60, 64, 67, 0.15);\n",
              "    fill: var(--button-hover-fill-color);\n",
              "  }\n",
              "\n",
              "  .colab-df-quickchart-complete:disabled,\n",
              "  .colab-df-quickchart-complete:disabled:hover {\n",
              "    background-color: var(--disabled-bg-color);\n",
              "    fill: var(--disabled-fill-color);\n",
              "    box-shadow: none;\n",
              "  }\n",
              "\n",
              "  .colab-df-spinner {\n",
              "    border: 2px solid var(--fill-color);\n",
              "    border-color: transparent;\n",
              "    border-bottom-color: var(--fill-color);\n",
              "    animation:\n",
              "      spin 1s steps(1) infinite;\n",
              "  }\n",
              "\n",
              "  @keyframes spin {\n",
              "    0% {\n",
              "      border-color: transparent;\n",
              "      border-bottom-color: var(--fill-color);\n",
              "      border-left-color: var(--fill-color);\n",
              "    }\n",
              "    20% {\n",
              "      border-color: transparent;\n",
              "      border-left-color: var(--fill-color);\n",
              "      border-top-color: var(--fill-color);\n",
              "    }\n",
              "    30% {\n",
              "      border-color: transparent;\n",
              "      border-left-color: var(--fill-color);\n",
              "      border-top-color: var(--fill-color);\n",
              "      border-right-color: var(--fill-color);\n",
              "    }\n",
              "    40% {\n",
              "      border-color: transparent;\n",
              "      border-right-color: var(--fill-color);\n",
              "      border-top-color: var(--fill-color);\n",
              "    }\n",
              "    60% {\n",
              "      border-color: transparent;\n",
              "      border-right-color: var(--fill-color);\n",
              "    }\n",
              "    80% {\n",
              "      border-color: transparent;\n",
              "      border-right-color: var(--fill-color);\n",
              "      border-bottom-color: var(--fill-color);\n",
              "    }\n",
              "    90% {\n",
              "      border-color: transparent;\n",
              "      border-bottom-color: var(--fill-color);\n",
              "    }\n",
              "  }\n",
              "</style>\n",
              "\n",
              "  <script>\n",
              "    async function quickchart(key) {\n",
              "      const quickchartButtonEl =\n",
              "        document.querySelector('#' + key + ' button');\n",
              "      quickchartButtonEl.disabled = true;  // To prevent multiple clicks.\n",
              "      quickchartButtonEl.classList.add('colab-df-spinner');\n",
              "      try {\n",
              "        const charts = await google.colab.kernel.invokeFunction(\n",
              "            'suggestCharts', [key], {});\n",
              "      } catch (error) {\n",
              "        console.error('Error during call to suggestCharts:', error);\n",
              "      }\n",
              "      quickchartButtonEl.classList.remove('colab-df-spinner');\n",
              "      quickchartButtonEl.classList.add('colab-df-quickchart-complete');\n",
              "    }\n",
              "    (() => {\n",
              "      let quickchartButtonEl =\n",
              "        document.querySelector('#df-9a4aa1f2-e55b-4186-86af-4edd05bd6718 button');\n",
              "      quickchartButtonEl.style.display =\n",
              "        google.colab.kernel.accessAllowed ? 'block' : 'none';\n",
              "    })();\n",
              "  </script>\n",
              "</div>\n",
              "\n",
              "    </div>\n",
              "  </div>\n"
            ],
            "application/vnd.google.colaboratory.intrinsic+json": {
              "type": "dataframe",
              "summary": "{\n  \"name\": \"Numeric_Sales\",\n  \"rows\": 450,\n  \"fields\": [\n    {\n      \"column\": \"Volume\",\n      \"properties\": {\n        \"dtype\": \"number\",\n        \"std\": null,\n        \"min\": 3.0,\n        \"max\": 3.0,\n        \"num_unique_values\": 1,\n        \"samples\": [\n          3.0\n        ],\n        \"semantic_type\": \"\",\n        \"description\": \"\"\n      }\n    },\n    {\n      \"column\": \"Avg Price\",\n      \"properties\": {\n        \"dtype\": \"number\",\n        \"std\": 3346.640106136302,\n        \"min\": 400.0,\n        \"max\": 8100.0,\n        \"num_unique_values\": 5,\n        \"samples\": [\n          450.0\n        ],\n        \"semantic_type\": \"\",\n        \"description\": \"\"\n      }\n    },\n    {\n      \"column\": \"Total Sales Value\",\n      \"properties\": {\n        \"dtype\": \"number\",\n        \"std\": null,\n        \"min\": 24300.0,\n        \"max\": 24300.0,\n        \"num_unique_values\": 1,\n        \"samples\": [\n          24300.0\n        ],\n        \"semantic_type\": \"\",\n        \"description\": \"\"\n      }\n    },\n    {\n      \"column\": \"Discount Rate (%)\",\n      \"properties\": {\n        \"dtype\": \"number\",\n        \"std\": 4.22060215332551,\n        \"min\": 5.007822189204133,\n        \"max\": 19.99240704193018,\n        \"num_unique_values\": 450,\n        \"samples\": [\n          19.28772746\n        ],\n        \"semantic_type\": \"\",\n        \"description\": \"\"\n      }\n    },\n    {\n      \"column\": \"Discount Amount\",\n      \"properties\": {\n        \"dtype\": \"number\",\n        \"std\": 4509.902963353998,\n        \"min\": 69.17794228822787,\n        \"max\": 25738.02219375868,\n        \"num_unique_values\": 450,\n        \"samples\": [\n          10362.514525451652\n        ],\n        \"semantic_type\": \"\",\n        \"description\": \"\"\n      }\n    },\n    {\n      \"column\": \"Net Sales Value\",\n      \"properties\": {\n        \"dtype\": \"number\",\n        \"std\": 46358.65662406695,\n        \"min\": 326.97480055470817,\n        \"max\": 179507.47904902254,\n        \"num_unique_values\": 450,\n        \"samples\": [\n          112003.42898323276\n        ],\n        \"semantic_type\": \"\",\n        \"description\": \"\"\n      }\n    }\n  ]\n}"
            }
          },
          "metadata": {},
          "execution_count": 14
        }
      ]
    },
    {
      "cell_type": "code",
      "source": [
        "Numeric_Sales.median()"
      ],
      "metadata": {
        "colab": {
          "base_uri": "https://localhost:8080/"
        },
        "id": "orvzLcXKMtlV",
        "outputId": "69fcfac7-963c-43f4-d5aa-057ee8baa678"
      },
      "execution_count": 15,
      "outputs": [
        {
          "output_type": "execute_result",
          "data": {
            "text/plain": [
              "Volume                  4.000000\n",
              "Avg Price            1450.000000\n",
              "Total Sales Value    5700.000000\n",
              "Discount Rate (%)      16.577766\n",
              "Discount Amount       988.933733\n",
              "Net Sales Value      4677.788059\n",
              "dtype: float64"
            ]
          },
          "metadata": {},
          "execution_count": 15
        }
      ]
    },
    {
      "cell_type": "markdown",
      "source": [
        "The data set contains, 450 row and 14 columb, out of the 14 the 6 is numeric."
      ],
      "metadata": {
        "id": "cuZtgcTCNmUK"
      }
    },
    {
      "cell_type": "markdown",
      "source": [
        "# Data Visualization"
      ],
      "metadata": {
        "id": "Be-t7NeoPRCc"
      }
    },
    {
      "cell_type": "code",
      "source": [
        "plt.hist(Numeric_Sales[\"Volume\"])"
      ],
      "metadata": {
        "colab": {
          "base_uri": "https://localhost:8080/",
          "height": 482
        },
        "id": "xa9jUwVyO6LH",
        "outputId": "dcb98cec-d169-4071-d78c-6a534b5dd302"
      },
      "execution_count": 16,
      "outputs": [
        {
          "output_type": "execute_result",
          "data": {
            "text/plain": [
              "(array([213., 137.,  49.,  26.,  15.,   2.,   0.,   4.,   1.,   3.]),\n",
              " array([ 1.,  4.,  7., 10., 13., 16., 19., 22., 25., 28., 31.]),\n",
              " <BarContainer object of 10 artists>)"
            ]
          },
          "metadata": {},
          "execution_count": 16
        },
        {
          "output_type": "display_data",
          "data": {
            "text/plain": [
              "<Figure size 640x480 with 1 Axes>"
            ],
            "image/png": "[encoded data removed]"
          },
          "metadata": {}
        }
      ]
    },
    {
      "cell_type": "code",
      "source": [
        "plt.hist(Numeric_Sales[\"Avg Price\"])"
      ],
      "metadata": {
        "colab": {
          "base_uri": "https://localhost:8080/",
          "height": 499
        },
        "id": "ltFaLu_ER04Z",
        "outputId": "5b36b9c1-1760-4a2d-bde7-e4bca1c543ef"
      },
      "execution_count": 17,
      "outputs": [
        {
          "output_type": "execute_result",
          "data": {
            "text/plain": [
              "(array([300.,  60.,  15.,  15.,   0.,   0.,   0.,   0.,  30.,  30.]),\n",
              " array([  290.,  6271., 12252., 18233., 24214., 30195., 36176., 42157.,\n",
              "        48138., 54119., 60100.]),\n",
              " <BarContainer object of 10 artists>)"
            ]
          },
          "metadata": {},
          "execution_count": 17
        },
        {
          "output_type": "display_data",
          "data": {
            "text/plain": [
              "<Figure size 640x480 with 1 Axes>"
            ],
            "image/png": "[encoded data removed]"
          },
          "metadata": {}
        }
      ]
    },
    {
      "cell_type": "code",
      "source": [
        "plt.hist(Numeric_Sales[\"Total Sales Value\"])"
      ],
      "metadata": {
        "colab": {
          "base_uri": "https://localhost:8080/",
          "height": 499
        },
        "id": "mCOpRkU8SKgU",
        "outputId": "7a4398b6-43b0-4807-97ed-dacab348cb14"
      },
      "execution_count": 18,
      "outputs": [
        {
          "output_type": "execute_result",
          "data": {
            "text/plain": [
              "(array([305.,  24.,  15.,  18.,  12.,  27.,  15.,  15.,  11.,   8.]),\n",
              " array([   400.,  20000.,  39600.,  59200.,  78800.,  98400., 118000.,\n",
              "        137600., 157200., 176800., 196400.]),\n",
              " <BarContainer object of 10 artists>)"
            ]
          },
          "metadata": {},
          "execution_count": 18
        },
        {
          "output_type": "display_data",
          "data": {
            "text/plain": [
              "<Figure size 640x480 with 1 Axes>"
            ],
            "image/png": "[encoded data removed]"
          },
          "metadata": {}
        }
      ]
    },
    {
      "cell_type": "code",
      "source": [
        "plt.hist(Numeric_Sales[\"Discount Rate (%)\"])"
      ],
      "metadata": {
        "colab": {
          "base_uri": "https://localhost:8080/",
          "height": 520
        },
        "id": "MAXwJVNpST7c",
        "outputId": "e5932bd7-4833-442c-b5e1-ff0fee820fdb"
      },
      "execution_count": 19,
      "outputs": [
        {
          "output_type": "execute_result",
          "data": {
            "text/plain": [
              "(array([ 27.,  24.,  29.,  14.,  14.,   6.,  38.,  96., 115.,  87.]),\n",
              " array([ 5.00782219,  6.50628067,  8.00473916,  9.50319765, 11.00165613,\n",
              "        12.50011462, 13.9985731 , 15.49703159, 16.99549007, 18.49394856,\n",
              "        19.99240704]),\n",
              " <BarContainer object of 10 artists>)"
            ]
          },
          "metadata": {},
          "execution_count": 19
        },
        {
          "output_type": "display_data",
          "data": {
            "text/plain": [
              "<Figure size 640x480 with 1 Axes>"
            ],
            "image/png": "[encoded data removed]"
          },
          "metadata": {}
        }
      ]
    },
    {
      "cell_type": "code",
      "source": [
        "plt.hist(Numeric_Sales[\"Discount Amount\"])"
      ],
      "metadata": {
        "colab": {
          "base_uri": "https://localhost:8080/",
          "height": 517
        },
        "id": "nXoVUbn3S2-J",
        "outputId": "1eb74468-05a5-4d3b-bd3c-1a1efbd8e39e"
      },
      "execution_count": 20,
      "outputs": [
        {
          "output_type": "execute_result",
          "data": {
            "text/plain": [
              "(array([299.,  37.,  42.,  29.,  22.,   8.,   9.,   0.,   2.,   2.]),\n",
              " array([   69.17794229,  2636.06236744,  5202.94679258,  7769.83121773,\n",
              "        10336.71564288, 12903.60006802, 15470.48449317, 18037.36891832,\n",
              "        20604.25334346, 23171.13776861, 25738.02219376]),\n",
              " <BarContainer object of 10 artists>)"
            ]
          },
          "metadata": {},
          "execution_count": 20
        },
        {
          "output_type": "display_data",
          "data": {
            "text/plain": [
              "<Figure size 640x480 with 1 Axes>"
            ],
            "image/png": "[encoded data removed]"
          },
          "metadata": {}
        }
      ]
    },
    {
      "cell_type": "code",
      "source": [
        "plt.hist(Numeric_Sales[\"Net Sales Value\"])"
      ],
      "metadata": {
        "colab": {
          "base_uri": "https://localhost:8080/",
          "height": 517
        },
        "id": "6oyiKo_STCfI",
        "outputId": "15f51abf-1fbc-4ef0-bf00-dcc7bfd947a7"
      },
      "execution_count": 22,
      "outputs": [
        {
          "output_type": "execute_result",
          "data": {
            "text/plain": [
              "(array([306.,  26.,  17.,  14.,   8.,  30.,  16.,  15.,  12.,   6.]),\n",
              " array([   326.97480055,  18245.0252254 ,  36163.07565025,  54081.1260751 ,\n",
              "         71999.17649994,  89917.22692479, 107835.27734964, 125753.32777448,\n",
              "        143671.37819933, 161589.42862418, 179507.47904902]),\n",
              " <BarContainer object of 10 artists>)"
            ]
          },
          "metadata": {},
          "execution_count": 22
        },
        {
          "output_type": "display_data",
          "data": {
            "text/plain": [
              "<Figure size 640x480 with 1 Axes>"
            ],
            "image/png": "[encoded data removed]"
          },
          "metadata": {}
        }
      ]
    },
    {
      "cell_type": "code",
      "source": [
        "Numeric_Sales.skew()\n"
      ],
      "metadata": {
        "colab": {
          "base_uri": "https://localhost:8080/"
        },
        "id": "hqt3eXXmW-5z",
        "outputId": "113e0a95-1502-4d4f-ad4b-fb42daa460c4"
      },
      "execution_count": 23,
      "outputs": [
        {
          "output_type": "execute_result",
          "data": {
            "text/plain": [
              "Volume               2.731724\n",
              "Avg Price            1.908873\n",
              "Total Sales Value    1.534729\n",
              "Discount Rate (%)   -1.062294\n",
              "Discount Amount      1.913038\n",
              "Net Sales Value      1.540822\n",
              "dtype: float64"
            ]
          },
          "metadata": {},
          "execution_count": 23
        }
      ]
    },
    {
      "cell_type": "markdown",
      "source": [
        "**From the above Histogram , we found that the data haveing lot of outlier, we have to distribute the data in normal distribution.**"
      ],
      "metadata": {
        "id": "MnGSRdotbku2"
      }
    },
    {
      "cell_type": "markdown",
      "source": [
        "# Boxplots:"
      ],
      "metadata": {
        "id": "uubnbdYTerF9"
      }
    },
    {
      "cell_type": "code",
      "source": [
        "sns.boxplot(Numeric_Sales[\"Volume\"])\n"
      ],
      "metadata": {
        "colab": {
          "base_uri": "https://localhost:8080/",
          "height": 428
        },
        "id": "2vsdd-Mqf1YT",
        "outputId": "a6877e44-b77b-4dbe-e895-a96a22ddecd7"
      },
      "execution_count": 24,
      "outputs": [
        {
          "output_type": "execute_result",
          "data": {
            "text/plain": [
              "<Axes: ylabel='Volume'>"
            ]
          },
          "metadata": {},
          "execution_count": 24
        },
        {
          "output_type": "display_data",
          "data": {
            "text/plain": [
              "<Figure size 640x480 with 1 Axes>"
            ],
            "image/png": "[encoded data removed]"
          },
          "metadata": {}
        }
      ]
    },
    {
      "cell_type": "markdown",
      "source": [
        "In the above box plot we found that, for each company most nuber of sales happend in between 2 and 10, wharer maximun number of sales happend 5. apert from 2 to 10 other number of sales we can consider other as outlier."
      ],
      "metadata": {
        "id": "4Hm5rqF1f1dw"
      }
    },
    {
      "cell_type": "code",
      "source": [
        "sns.boxplot(Numeric_Sales[\"Avg Price\"])\n"
      ],
      "metadata": {
        "colab": {
          "base_uri": "https://localhost:8080/",
          "height": 428
        },
        "id": "lYBeQRalfsQq",
        "outputId": "cb940760-2645-4386-bd36-91c7b02a3200"
      },
      "execution_count": 27,
      "outputs": [
        {
          "output_type": "execute_result",
          "data": {
            "text/plain": [
              "<Axes: ylabel='Avg Price'>"
            ]
          },
          "metadata": {},
          "execution_count": 27
        },
        {
          "output_type": "display_data",
          "data": {
            "text/plain": [
              "<Figure size 640x480 with 1 Axes>"
            ],
            "image/png": "[encoded data removed]"
          },
          "metadata": {}
        }
      ]
    },
    {
      "cell_type": "markdown",
      "source": [
        "In the above box plot we found that, for each company most of the product sales happen between 0 and 20000. Maximun sale happend near to 5000. But I found the unusal point the sales at price of 0."
      ],
      "metadata": {
        "id": "rQ-8Su_ugnIN"
      }
    },
    {
      "cell_type": "code",
      "source": [
        "sns.boxplot(Numeric_Sales[\"Total Sales Value\"])\n"
      ],
      "metadata": {
        "colab": {
          "base_uri": "https://localhost:8080/",
          "height": 428
        },
        "id": "blnz1zgXfQin",
        "outputId": "509ed0bc-b630-48e8-a720-5293a811c8aa"
      },
      "execution_count": 28,
      "outputs": [
        {
          "output_type": "execute_result",
          "data": {
            "text/plain": [
              "<Axes: ylabel='Total Sales Value'>"
            ]
          },
          "metadata": {},
          "execution_count": 28
        },
        {
          "output_type": "display_data",
          "data": {
            "text/plain": [
              "<Figure size 640x480 with 1 Axes>"
            ],
            "image/png": "[encoded data removed]"
          },
          "metadata": {}
        }
      ]
    },
    {
      "cell_type": "markdown",
      "source": [
        "In the above box plot we found that, total sales of each company, varying between 0 to 125000, where maximum sales happen in between 0 to 50000."
      ],
      "metadata": {
        "id": "FmKHRk_ahTa7"
      }
    },
    {
      "cell_type": "code",
      "source": [
        "sns.boxplot(Numeric_Sales[\"Discount Rate (%)\"])\n"
      ],
      "metadata": {
        "colab": {
          "base_uri": "https://localhost:8080/",
          "height": 428
        },
        "id": "EVjHxtjdfJX7",
        "outputId": "bf48c8d4-94f4-4b72-abb9-73371bb10c92"
      },
      "execution_count": 29,
      "outputs": [
        {
          "output_type": "execute_result",
          "data": {
            "text/plain": [
              "<Axes: ylabel='Discount Rate (%)'>"
            ]
          },
          "metadata": {},
          "execution_count": 29
        },
        {
          "output_type": "display_data",
          "data": {
            "text/plain": [
              "<Figure size 640x480 with 1 Axes>"
            ],
            "image/png": "[encoded data removed]"
          },
          "metadata": {}
        }
      ]
    },
    {
      "cell_type": "markdown",
      "source": [
        "For the the total sales most of the discount given between 8% to 20%. maximum sales happen at approx 16.5% discont."
      ],
      "metadata": {
        "id": "rldZdl2mh0sC"
      }
    },
    {
      "cell_type": "code",
      "source": [
        "sns.boxplot(Numeric_Sales[\"Discount Amount\"])\n"
      ],
      "metadata": {
        "colab": {
          "base_uri": "https://localhost:8080/",
          "height": 428
        },
        "id": "Xivathr7e953",
        "outputId": "f6cf567e-d44d-4c35-90fc-6baae016c8d4"
      },
      "execution_count": 30,
      "outputs": [
        {
          "output_type": "execute_result",
          "data": {
            "text/plain": [
              "<Axes: ylabel='Discount Amount'>"
            ]
          },
          "metadata": {},
          "execution_count": 30
        },
        {
          "output_type": "display_data",
          "data": {
            "text/plain": [
              "<Figure size 640x480 with 1 Axes>"
            ],
            "image/png": "[encoded data removed]"
          },
          "metadata": {}
        }
      ]
    },
    {
      "cell_type": "markdown",
      "source": [
        "For the sales the most of the discount amount given between 0 to 12500 and maximum sales happend in between at discount between 1000 to 5000. thare are other amount also their but we can consider them as outlier."
      ],
      "metadata": {
        "id": "Exd07cm3ibLN"
      }
    },
    {
      "cell_type": "code",
      "source": [
        "\n",
        "sns.boxplot(Numeric_Sales[\"Net Sales Value\"])"
      ],
      "metadata": {
        "colab": {
          "base_uri": "https://localhost:8080/",
          "height": 428
        },
        "id": "DQYDycMJTQE0",
        "outputId": "511cddbb-801e-482e-d02a-89d061279df1"
      },
      "execution_count": 32,
      "outputs": [
        {
          "output_type": "execute_result",
          "data": {
            "text/plain": [
              "<Axes: ylabel='Net Sales Value'>"
            ]
          },
          "metadata": {},
          "execution_count": 32
        },
        {
          "output_type": "display_data",
          "data": {
            "text/plain": [
              "<Figure size 640x480 with 1 Axes>"
            ],
            "image/png": "[encoded data removed]"
          },
          "metadata": {}
        }
      ]
    },
    {
      "cell_type": "markdown",
      "source": [
        "The net sales value falling in between approx 0 and 115000. whre maximum net sales value is 0 to 50000."
      ],
      "metadata": {
        "id": "-ARwZ_AddSKG"
      }
    },
    {
      "cell_type": "markdown",
      "source": [
        "●\tBar Chart Analysis for Categorical Column"
      ],
      "metadata": {
        "id": "YF_DAzf7yibd"
      }
    },
    {
      "cell_type": "code",
      "source": [
        "sns.barplot(x = 'Brand', y = 'Model',color='pink',data = Sales)\n",
        "plt.xlabel(\"Barnd\")\n",
        "plt.ylabel(\"Model\")\n",
        "plt.title(\"Numbdr of Model of each brand\")\n",
        "plt.show()"
      ],
      "metadata": {
        "colab": {
          "base_uri": "https://localhost:8080/",
          "height": 472
        },
        "id": "CaRf0WvPnUZC",
        "outputId": "43f21a65-2615-42ab-8780-17a752b718b8"
      },
      "execution_count": 43,
      "outputs": [
        {
          "output_type": "display_data",
          "data": {
            "text/plain": [
              "<Figure size 640x480 with 1 Axes>"
            ],
            "image/png": "[encoded data removed]"
          },
          "metadata": {}
        }
      ]
    },
    {
      "cell_type": "markdown",
      "source": [
        "From the above chart we found that, most product sales happend from, orange, then samsung, then YouM, 4th is RealU after that Viva, then Jeera and accrodingly Babaji brand, Vedic then came Gear."
      ],
      "metadata": {
        "id": "4rSmSETxkc94"
      }
    },
    {
      "cell_type": "markdown",
      "source": [
        "# Standardization of Numerical Variables"
      ],
      "metadata": {
        "id": "8JU8-8jPlmO9"
      }
    },
    {
      "cell_type": "markdown",
      "source": [
        "**\tExplain the concept of standardization (z-score normalization)**\n",
        "In the the process of Z-Score normalization , we create the the new value of the data that falls between 0 to 1. apert from that other value can be consider as Outlier.\n",
        "the formula of z score is\n",
        "z=(x-mean)/SD."
      ],
      "metadata": {
        "id": "j2aqDL6Wzy57"
      }
    },
    {
      "cell_type": "code",
      "source": [
        "from scipy.stats import zscore\n",
        "import scipy.stats as stats"
      ],
      "metadata": {
        "id": "djF9ynAq2AJ6"
      },
      "execution_count": 41,
      "outputs": []
    },
    {
      "cell_type": "code",
      "source": [
        "Numeric_Sales_Zscore = stats.zscore(Numeric_Sales)\n",
        "print(Numeric_Sales_Zscore.head())"
      ],
      "metadata": {
        "colab": {
          "base_uri": "https://localhost:8080/"
        },
        "id": "Js1semvUlqne",
        "outputId": "43af9545-feb3-4a06-f40f-19559cf1e20d"
      },
      "execution_count": 48,
      "outputs": [
        {
          "output_type": "stream",
          "name": "stdout",
          "text": [
            "     Volume  Avg Price  Total Sales Value  Discount Rate (%)  Discount Amount  \\\n",
            "0  2.350029   0.091173           2.925721          -0.830289         3.952816   \n",
            "1  1.167129  -0.019570           1.330995          -0.852661         1.849014   \n",
            "2  0.457388   0.312659           1.562775          -1.351631         1.622995   \n",
            "3  0.220808   0.534146           1.719276          -1.949723         1.113807   \n",
            "4 -0.488932  -0.130313          -0.188452           0.673739         0.227852   \n",
            "\n",
            "   Net Sales Value  \n",
            "0         2.804756  \n",
            "1         1.271026  \n",
            "2         1.545675  \n",
            "3         1.765810  \n",
            "4        -0.227595  \n"
          ]
        }
      ]
    },
    {
      "cell_type": "markdown",
      "source": [
        "# Conversion of Categorical Data into Dummy Variables"
      ],
      "metadata": {
        "id": "KXqv5c42fkhL"
      }
    },
    {
      "cell_type": "markdown",
      "source": [
        "**\tDiscuss the need for converting categorical data into dummy variables (one-hot encoding).**\n",
        "\n",
        "When we use any data im ML project , we need it in the as numerical. Some time we get data in the form of Category like Doctor and Engineer. To use the both category Doctor and Engineer, we convert them in the binary form of  0 & 1 thate refer as Doctor as 0 and Engineer as 1."
      ],
      "metadata": {
        "id": "39F8T9SPfrTP"
      }
    },
    {
      "cell_type": "markdown",
      "source": [
        "**\tApply one-hot encoding to the categorical columns, **"
      ],
      "metadata": {
        "id": "DVfTbkxIhC6C"
      }
    },
    {
      "cell_type": "code",
      "source": [
        "one_hot_encoded_data = pd.get_dummies(Sales, columns = ['Model', 'Brand'])\n",
        "print(one_hot_encoded_data)"
      ],
      "metadata": {
        "colab": {
          "base_uri": "https://localhost:8080/"
        },
        "id": "vNXyXwa0hJWT",
        "outputId": "30b98af3-ad0e-49ca-e25a-d2aae4f5d8d7"
      },
      "execution_count": 41,
      "outputs": [
        {
          "output_type": "stream",
          "name": "stdout",
          "text": [
            "           Date       Day  SKU City  Volume         BU  Avg Price  \\\n",
            "0    01-04-2021  Thursday  M01    C      15    Mobiles      12100   \n",
            "1    01-04-2021  Thursday  M02    C      10    Mobiles      10100   \n",
            "2    01-04-2021  Thursday  M03    C       7    Mobiles      16100   \n",
            "3    01-04-2021  Thursday  M04    C       6    Mobiles      20100   \n",
            "4    01-04-2021  Thursday  M05    C       3    Mobiles       8100   \n",
            "..          ...       ...  ...  ...     ...        ...        ...   \n",
            "445  15-04-2021  Thursday  L06    C       2  Lifestyle       1300   \n",
            "446  15-04-2021  Thursday  L07    C       6  Lifestyle       2600   \n",
            "447  15-04-2021  Thursday  L08    C       2  Lifestyle       1600   \n",
            "448  15-04-2021  Thursday  L09    C       3  Lifestyle       1900   \n",
            "449  15-04-2021  Thursday  L10    C       1  Lifestyle       3100   \n",
            "\n",
            "     Total Sales Value  Discount Rate (%)  Discount Amount  ...  \\\n",
            "0               181500          11.654820     21153.498820  ...   \n",
            "1               101000          11.560498     11676.102961  ...   \n",
            "2               112700           9.456886     10657.910157  ...   \n",
            "3               120600           6.935385      8364.074702  ...   \n",
            "4                24300          17.995663      4372.946230  ...   \n",
            "..                 ...                ...              ...  ...   \n",
            "445               2600          15.475687       402.367873  ...   \n",
            "446              15600          17.057027      2660.896242  ...   \n",
            "447               3200          18.965550       606.897606  ...   \n",
            "448               5700          16.793014       957.201826  ...   \n",
            "449               3100          15.333300       475.332295  ...   \n",
            "\n",
            "     Model_YM-99 Plus  Brand_Babaji  Brand_Gear  Brand_Jeera  Brand_Orange  \\\n",
            "0               False         False       False        False         False   \n",
            "1               False         False       False        False         False   \n",
            "2               False         False       False        False         False   \n",
            "3                True         False       False        False         False   \n",
            "4               False         False       False        False         False   \n",
            "..                ...           ...         ...          ...           ...   \n",
            "445             False         False       False         True         False   \n",
            "446             False         False       False        False         False   \n",
            "447             False         False       False        False         False   \n",
            "448             False         False       False         True         False   \n",
            "449             False         False       False         True         False   \n",
            "\n",
            "     Brand_RealU  Brand_Sumsang  Brand_Vedic  Brand_Viva  Brand_YouM  \n",
            "0           True          False        False       False       False  \n",
            "1           True          False        False       False       False  \n",
            "2          False          False        False       False        True  \n",
            "3          False          False        False       False        True  \n",
            "4          False          False        False       False        True  \n",
            "..           ...            ...          ...         ...         ...  \n",
            "445        False          False        False       False       False  \n",
            "446        False          False        False        True       False  \n",
            "447        False          False        False        True       False  \n",
            "448        False          False        False       False       False  \n",
            "449        False          False        False       False       False  \n",
            "\n",
            "[450 rows x 50 columns]\n"
          ]
        }
      ]
    },
    {
      "cell_type": "code",
      "source": [
        "print(one_hot_encoded_data*1)"
      ],
      "metadata": {
        "colab": {
          "base_uri": "https://localhost:8080/"
        },
        "id": "W4IycEwKu9vT",
        "outputId": "498c9fa3-69f1-47a5-f6a6-4c4b494cd2d9"
      },
      "execution_count": 60,
      "outputs": [
        {
          "output_type": "stream",
          "name": "stdout",
          "text": [
            "           Date       Day  SKU City  Volume         BU  Avg Price  \\\n",
            "0    01-04-2021  Thursday  M01    C      15    Mobiles      12100   \n",
            "1    01-04-2021  Thursday  M02    C      10    Mobiles      10100   \n",
            "2    01-04-2021  Thursday  M03    C       7    Mobiles      16100   \n",
            "3    01-04-2021  Thursday  M04    C       6    Mobiles      20100   \n",
            "4    01-04-2021  Thursday  M05    C       3    Mobiles       8100   \n",
            "..          ...       ...  ...  ...     ...        ...        ...   \n",
            "445  15-04-2021  Thursday  L06    C       2  Lifestyle       1300   \n",
            "446  15-04-2021  Thursday  L07    C       6  Lifestyle       2600   \n",
            "447  15-04-2021  Thursday  L08    C       2  Lifestyle       1600   \n",
            "448  15-04-2021  Thursday  L09    C       3  Lifestyle       1900   \n",
            "449  15-04-2021  Thursday  L10    C       1  Lifestyle       3100   \n",
            "\n",
            "     Total Sales Value  Discount Rate (%)  Discount Amount  ...  \\\n",
            "0               181500          11.654820     21153.498820  ...   \n",
            "1               101000          11.560498     11676.102961  ...   \n",
            "2               112700           9.456886     10657.910157  ...   \n",
            "3               120600           6.935385      8364.074702  ...   \n",
            "4                24300          17.995663      4372.946230  ...   \n",
            "..                 ...                ...              ...  ...   \n",
            "445               2600          15.475687       402.367873  ...   \n",
            "446              15600          17.057027      2660.896242  ...   \n",
            "447               3200          18.965550       606.897606  ...   \n",
            "448               5700          16.793014       957.201826  ...   \n",
            "449               3100          15.333300       475.332295  ...   \n",
            "\n",
            "     Model_YM-99 Plus  Brand_Babaji  Brand_Gear  Brand_Jeera  Brand_Orange  \\\n",
            "0                   0             0           0            0             0   \n",
            "1                   0             0           0            0             0   \n",
            "2                   0             0           0            0             0   \n",
            "3                   1             0           0            0             0   \n",
            "4                   0             0           0            0             0   \n",
            "..                ...           ...         ...          ...           ...   \n",
            "445                 0             0           0            1             0   \n",
            "446                 0             0           0            0             0   \n",
            "447                 0             0           0            0             0   \n",
            "448                 0             0           0            1             0   \n",
            "449                 0             0           0            1             0   \n",
            "\n",
            "     Brand_RealU  Brand_Sumsang  Brand_Vedic  Brand_Viva  Brand_YouM  \n",
            "0              1              0            0           0           0  \n",
            "1              1              0            0           0           0  \n",
            "2              0              0            0           0           1  \n",
            "3              0              0            0           0           1  \n",
            "4              0              0            0           0           1  \n",
            "..           ...            ...          ...         ...         ...  \n",
            "445            0              0            0           0           0  \n",
            "446            0              0            0           1           0  \n",
            "447            0              0            0           1           0  \n",
            "448            0              0            0           0           0  \n",
            "449            0              0            0           0           0  \n",
            "\n",
            "[450 rows x 50 columns]\n"
          ]
        }
      ]
    },
    {
      "cell_type": "markdown",
      "source": [
        "# Conclusion"
      ],
      "metadata": {
        "id": "r1fvnClavzxt"
      }
    },
    {
      "cell_type": "markdown",
      "source": [
        "From the above visualizaion we find that all category carring outlier, requried Noemal distribution to performe any kind of ML model."
      ],
      "metadata": {
        "id": "jO7tusSyz3hF"
      }
    }
  ]
}